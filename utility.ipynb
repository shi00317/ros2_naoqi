{
 "cells": [
  {
   "cell_type": "code",
   "execution_count": 4,
   "id": "6c48f90c",
   "metadata": {},
   "outputs": [],
   "source": [
    "import re\n",
    "\n",
    "def parse_and_save_concept_file(input_filepath, output_pyfile='output.py'):\n",
    "    concept_dict = {}\n",
    "    with open(input_filepath, 'r', encoding='utf-8') as f:\n",
    "        for line in f:\n",
    "            line = line.strip()\n",
    "            if not line or not line.startswith('concept:('):\n",
    "                continue\n",
    "            # Extract key\n",
    "            key_match = re.match(r'concept:\\(([^)]+)\\)', line)\n",
    "            if not key_match:\n",
    "                continue\n",
    "            key = key_match.group(1)\n",
    "            # Extract content after key\n",
    "            rest = line[key_match.end():].strip(' =')\n",
    "            # Remove ^rand[ and surrounding brackets\n",
    "            if rest.startswith('^rand['):\n",
    "                rest = rest[6:-1]\n",
    "            # Remove square brackets if present\n",
    "            if rest.startswith('[') and rest.endswith(']'):\n",
    "                rest = rest[1:-1]\n",
    "            # Split by double quotes and commas\n",
    "            animation_strings = re.findall(r'\\^run\\(([^)]+)\\)', rest)\n",
    "            # Clean up any accidental whitespace\n",
    "            animation_strings = [s.strip() for s in animation_strings if s.strip()]\n",
    "            concept_dict[key] = animation_strings\n",
    "\n",
    "    # Write to .py file\n",
    "    with open(output_pyfile, 'w', encoding='utf-8') as f:\n",
    "        f.write(\"# Auto-generated concept dictionary\\n\")\n",
    "        f.write(\"concept_dict = \")\n",
    "        f.write(repr(concept_dict))\n",
    "        f.write(\"\\n\")\n",
    "\n",
    "# Example usage:\n",
    "parse_and_save_concept_file('NaoqiAction.txt', 'output.py')\n"
   ]
  }
 ],
 "metadata": {
  "kernelspec": {
   "display_name": "teleop",
   "language": "python",
   "name": "python3"
  },
  "language_info": {
   "codemirror_mode": {
    "name": "ipython",
    "version": 3
   },
   "file_extension": ".py",
   "mimetype": "text/x-python",
   "name": "python",
   "nbconvert_exporter": "python",
   "pygments_lexer": "ipython3",
   "version": "3.10.15"
  }
 },
 "nbformat": 4,
 "nbformat_minor": 5
}
